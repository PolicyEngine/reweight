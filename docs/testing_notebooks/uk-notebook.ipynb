{
 "cells": [
  {
   "cell_type": "markdown",
   "metadata": {},
   "source": [
    "# UK testing notebook\n",
    "\n",
    "This notebook includes testing for the functionality of reweight with PolicyEngine UK."
   ]
  },
  {
   "cell_type": "code",
   "execution_count": null,
   "metadata": {},
   "outputs": [],
   "source": [
    "import pandas as pd\n",
    "import numpy as np\n",
    "import torch\n",
    "from torch.utils.tensorboard import SummaryWriter"
   ]
  },
  {
   "cell_type": "code",
   "execution_count": null,
   "metadata": {},
   "outputs": [],
   "source": [
    "from policyengine_uk import Microsimulation\n",
    "from policyengine_uk.data import RawFRS_2021_22\n",
    "RawFRS_2021_22().download()"
   ]
  },
  {
   "cell_type": "code",
   "execution_count": null,
   "metadata": {},
   "outputs": [],
   "source": [
    "from policyengine_uk.data.datasets.frs.calibration.calibrate import generate_model_variables\n",
    "\n",
    "(\n",
    "    household_weights,\n",
    "    weight_adjustment,\n",
    "    values_df,\n",
    "    targets,\n",
    "    targets_array,\n",
    "    equivalisation_factors_array\n",
    ") = generate_model_variables(\"frs_2021\", 2025)"
   ]
  },
  {
   "cell_type": "code",
   "execution_count": null,
   "metadata": {},
   "outputs": [],
   "source": [
    "from reweight import reweight"
   ]
  },
  {
   "cell_type": "code",
   "execution_count": null,
   "metadata": {},
   "outputs": [],
   "source": [
    "sim_matrix = torch.tensor(values_df.to_numpy(), dtype=torch.float32)\n",
    "\n",
    "final_weights = reweight(household_weights, sim_matrix, targets, targets_array)"
   ]
  },
  {
   "cell_type": "code",
   "execution_count": null,
   "metadata": {},
   "outputs": [],
   "source": [
    "def nonzero_proportion(tensor):\n",
    "    return torch.count_nonzero(tensor).item() / tensor.numel()\n",
    "\n",
    "print(nonzero_proportion(household_weights))\n",
    "\n",
    "print(nonzero_proportion(final_weights))"
   ]
  }
 ],
 "metadata": {
  "language_info": {
   "name": "python"
  }
 },
 "nbformat": 4,
 "nbformat_minor": 2
}
