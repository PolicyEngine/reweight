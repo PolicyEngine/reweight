{
 "cells": [
  {
   "cell_type": "markdown",
   "metadata": {},
   "source": [
    "# US testing notebook\n",
    "\n",
    "This notebook includes testing for the functionality of reweight with PolicyEngine US."
   ]
  },
  {
   "cell_type": "code",
   "execution_count": null,
   "metadata": {},
   "outputs": [],
   "source": [
    "import pandas as pd\n",
    "import numpy as np\n",
    "import torch\n",
    "from torch.utils.tensorboard import SummaryWriter"
   ]
  },
  {
   "cell_type": "code",
   "execution_count": 1,
   "metadata": {},
   "outputs": [
    {
     "name": "stdout",
     "output_type": "stream",
     "text": [
      "This runs!\n"
     ]
    }
   ],
   "source": [
    "from policyengine_us.data.datasets.cps.enhanced_cps.loss import generate_model_variables\n",
    "(\n",
    "    household_weights,\n",
    "    weight_adjustment,\n",
    "    values_df,\n",
    "    targets,\n",
    "    targets_array,\n",
    "    equivalisation_factors_array\n",
    ") = generate_model_variables(\"cps_2021\", 2025)"
   ]
  },
  {
   "cell_type": "code",
   "execution_count": null,
   "metadata": {},
   "outputs": [],
   "source": [
    "from reweight import reweight"
   ]
  },
  {
   "cell_type": "code",
   "execution_count": null,
   "metadata": {},
   "outputs": [],
   "source": [
    "sim_matrix = torch.tensor(values_df.to_numpy(), dtype=torch.float32)\n",
    "initial_weights = torch.tensor(household_weights, dtype=torch.float32)\n",
    "targets_tensor = torch.tensor(targets_array, dtype=torch.float32)\n",
    "final_weights = reweight(initial_weights, sim_matrix, targets, targets_tensor)"
   ]
  },
  {
   "cell_type": "code",
   "execution_count": null,
   "metadata": {},
   "outputs": [],
   "source": [
    "def nonzero_proportion(tensor):\n",
    "    return torch.count_nonzero(tensor).item() / tensor.numel()\n",
    "\n",
    "print(nonzero_proportion(initial_weights))\n",
    "\n",
    "print(nonzero_proportion(final_weights))"
   ]
  }
 ],
 "metadata": {
  "kernelspec": {
   "display_name": "policyengine",
   "language": "python",
   "name": "python3"
  },
  "language_info": {
   "codemirror_mode": {
    "name": "ipython",
    "version": 3
   },
   "file_extension": ".py",
   "mimetype": "text/x-python",
   "name": "python",
   "nbconvert_exporter": "python",
   "pygments_lexer": "ipython3",
   "version": "3.9.7"
  }
 },
 "nbformat": 4,
 "nbformat_minor": 2
}
